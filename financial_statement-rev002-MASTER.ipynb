{
 "cells": [
  {
   "cell_type": "code",
   "execution_count": 88,
   "metadata": {},
   "outputs": [],
   "source": [
    "from yahoofinancials import YahooFinancials\n",
    "import pandas as pd\n",
    "import seaborn as sns; sns.set()\n",
    "import matplotlib.pyplot as plt\n",
    "%matplotlib inline\n",
    "\n",
    "from IPython.display import HTML"
   ]
  },
  {
   "cell_type": "code",
   "execution_count": 89,
   "metadata": {},
   "outputs": [
    {
     "data": {
      "text/html": [
       "<script>\n",
       "code_show=true; \n",
       "function code_toggle() {\n",
       " if (code_show){\n",
       " $('div.input').hide();\n",
       " } else {\n",
       " $('div.input').show();\n",
       " }\n",
       " code_show = !code_show\n",
       "} \n",
       "$( document ).ready(code_toggle);\n",
       "</script>\n",
       "<form action=\"javascript:code_toggle()\"><input type=\"submit\" value=\"Click here to toggle on/off the raw code.\"></form>"
      ],
      "text/plain": [
       "<IPython.core.display.HTML object>"
      ]
     },
     "execution_count": 89,
     "metadata": {},
     "output_type": "execute_result"
    }
   ],
   "source": [
    "HTML('''<script>\n",
    "code_show=true; \n",
    "function code_toggle() {\n",
    " if (code_show){\n",
    " $('div.input').hide();\n",
    " } else {\n",
    " $('div.input').show();\n",
    " }\n",
    " code_show = !code_show\n",
    "} \n",
    "$( document ).ready(code_toggle);\n",
    "</script>\n",
    "<form action=\"javascript:code_toggle()\"><input type=\"submit\" value=\"Click here to toggle on/off the raw code.\"></form>''')"
   ]
  },
  {
   "cell_type": "markdown",
   "metadata": {},
   "source": [
    "# Import data"
   ]
  },
  {
   "cell_type": "code",
   "execution_count": 90,
   "metadata": {},
   "outputs": [],
   "source": [
    "STOCK_PICK = 'SPY'\n",
    "#INCOME STATEMENT\n",
    "appl_financial_statement_dict = YahooFinancials(STOCK_PICK).get_financial_stmts('annual', 'income')\n",
    "#BALANCE STATEMENT\n",
    "appl_balance_statement_dict = YahooFinancials(STOCK_PICK).get_financial_stmts('annual', 'balance')"
   ]
  },
  {
   "cell_type": "markdown",
   "metadata": {},
   "source": [
    "### Financial Statement"
   ]
  },
  {
   "cell_type": "code",
   "execution_count": 91,
   "metadata": {},
   "outputs": [
    {
     "data": {
      "text/plain": [
       "{'2014-12-31': {'researchDevelopment': 9275000000,\n",
       "  'effectOfAccountingCharges': None,\n",
       "  'incomeBeforeTax': -74000000,\n",
       "  'minorityInterest': None,\n",
       "  'netIncome': -241000000,\n",
       "  'sellingGeneralAdministrative': 16650000000,\n",
       "  'grossProfit': 26236000000,\n",
       "  'ebit': 178000000,\n",
       "  'operatingIncome': 178000000,\n",
       "  'otherOperatingExpenses': 133000000,\n",
       "  'interestExpense': -210000000,\n",
       "  'extraordinaryItems': None,\n",
       "  'nonRecurring': None,\n",
       "  'otherItems': None,\n",
       "  'incomeTaxExpense': 167000000,\n",
       "  'totalRevenue': 88988000000,\n",
       "  'totalOperatingExpenses': 88810000000,\n",
       "  'costOfRevenue': 62752000000,\n",
       "  'totalOtherIncomeExpenseNet': -252000000,\n",
       "  'discontinuedOperations': None,\n",
       "  'netIncomeFromContinuingOps': -241000000,\n",
       "  'netIncomeApplicableToCommonShares': -241000000}}"
      ]
     },
     "execution_count": 91,
     "metadata": {},
     "output_type": "execute_result"
    }
   ],
   "source": [
    "df_appl_financial_statement = pd.DataFrame.from_dict(appl_financial_statement_dict['incomeStatementHistory'][STOCK_PICK][0]).T\n",
    "appl_financial_statement_dict['incomeStatementHistory'][STOCK_PICK][3]"
   ]
  },
  {
   "cell_type": "code",
   "execution_count": 92,
   "metadata": {},
   "outputs": [],
   "source": [
    "#CONVERT DICTIONARY TO DATAFRAME\n",
    "for year in range(len(appl_financial_statement_dict['incomeStatementHistory'][STOCK_PICK])):\n",
    "    df_new = pd.DataFrame.from_dict(appl_financial_statement_dict['incomeStatementHistory'][STOCK_PICK][year]).T\n",
    "    df_appl_financial_statement = df_appl_financial_statement.append(df_new)"
   ]
  },
  {
   "cell_type": "code",
   "execution_count": 93,
   "metadata": {},
   "outputs": [
    {
     "data": {
      "text/html": [
       "<div>\n",
       "<style scoped>\n",
       "    .dataframe tbody tr th:only-of-type {\n",
       "        vertical-align: middle;\n",
       "    }\n",
       "\n",
       "    .dataframe tbody tr th {\n",
       "        vertical-align: top;\n",
       "    }\n",
       "\n",
       "    .dataframe thead th {\n",
       "        text-align: right;\n",
       "    }\n",
       "</style>\n",
       "<table border=\"1\" class=\"dataframe\">\n",
       "  <thead>\n",
       "    <tr style=\"text-align: right;\">\n",
       "      <th></th>\n",
       "      <th>costOfRevenue</th>\n",
       "      <th>discontinuedOperations</th>\n",
       "      <th>ebit</th>\n",
       "      <th>effectOfAccountingCharges</th>\n",
       "      <th>extraordinaryItems</th>\n",
       "      <th>grossProfit</th>\n",
       "      <th>incomeBeforeTax</th>\n",
       "      <th>incomeTaxExpense</th>\n",
       "      <th>interestExpense</th>\n",
       "      <th>minorityInterest</th>\n",
       "      <th>...</th>\n",
       "      <th>netIncomeFromContinuingOps</th>\n",
       "      <th>nonRecurring</th>\n",
       "      <th>operatingIncome</th>\n",
       "      <th>otherItems</th>\n",
       "      <th>otherOperatingExpenses</th>\n",
       "      <th>researchDevelopment</th>\n",
       "      <th>sellingGeneralAdministrative</th>\n",
       "      <th>totalOperatingExpenses</th>\n",
       "      <th>totalOtherIncomeExpenseNet</th>\n",
       "      <th>totalRevenue</th>\n",
       "    </tr>\n",
       "  </thead>\n",
       "  <tbody>\n",
       "    <tr>\n",
       "      <th>2017-12-31</th>\n",
       "      <td>1.119340e+11</td>\n",
       "      <td>0.0</td>\n",
       "      <td>4.106000e+09</td>\n",
       "      <td>0.0</td>\n",
       "      <td>0.0</td>\n",
       "      <td>6.593200e+10</td>\n",
       "      <td>3.802000e+09</td>\n",
       "      <td>7.690000e+08</td>\n",
       "      <td>-848000000.0</td>\n",
       "      <td>0.0</td>\n",
       "      <td>...</td>\n",
       "      <td>3.033000e+09</td>\n",
       "      <td>0.0</td>\n",
       "      <td>4.106000e+09</td>\n",
       "      <td>0.0</td>\n",
       "      <td>214000000.0</td>\n",
       "      <td>2.262000e+10</td>\n",
       "      <td>3.899200e+10</td>\n",
       "      <td>1.737600e+11</td>\n",
       "      <td>-304000000.0</td>\n",
       "      <td>1.778660e+11</td>\n",
       "    </tr>\n",
       "    <tr>\n",
       "      <th>2016-12-31</th>\n",
       "      <td>8.826500e+10</td>\n",
       "      <td>0.0</td>\n",
       "      <td>4.186000e+09</td>\n",
       "      <td>0.0</td>\n",
       "      <td>0.0</td>\n",
       "      <td>4.772200e+10</td>\n",
       "      <td>3.796000e+09</td>\n",
       "      <td>1.425000e+09</td>\n",
       "      <td>-484000000.0</td>\n",
       "      <td>0.0</td>\n",
       "      <td>...</td>\n",
       "      <td>2.371000e+09</td>\n",
       "      <td>0.0</td>\n",
       "      <td>4.186000e+09</td>\n",
       "      <td>0.0</td>\n",
       "      <td>167000000.0</td>\n",
       "      <td>1.608500e+10</td>\n",
       "      <td>2.728400e+10</td>\n",
       "      <td>1.318010e+11</td>\n",
       "      <td>-390000000.0</td>\n",
       "      <td>1.359870e+11</td>\n",
       "    </tr>\n",
       "    <tr>\n",
       "      <th>2015-12-31</th>\n",
       "      <td>7.165100e+10</td>\n",
       "      <td>0.0</td>\n",
       "      <td>2.233000e+09</td>\n",
       "      <td>0.0</td>\n",
       "      <td>0.0</td>\n",
       "      <td>3.535500e+10</td>\n",
       "      <td>1.546000e+09</td>\n",
       "      <td>9.500000e+08</td>\n",
       "      <td>-459000000.0</td>\n",
       "      <td>0.0</td>\n",
       "      <td>...</td>\n",
       "      <td>5.960000e+08</td>\n",
       "      <td>0.0</td>\n",
       "      <td>2.233000e+09</td>\n",
       "      <td>0.0</td>\n",
       "      <td>171000000.0</td>\n",
       "      <td>1.254000e+10</td>\n",
       "      <td>2.041100e+10</td>\n",
       "      <td>1.047730e+11</td>\n",
       "      <td>-687000000.0</td>\n",
       "      <td>1.070060e+11</td>\n",
       "    </tr>\n",
       "    <tr>\n",
       "      <th>2014-12-31</th>\n",
       "      <td>6.275200e+10</td>\n",
       "      <td>0.0</td>\n",
       "      <td>1.780000e+08</td>\n",
       "      <td>0.0</td>\n",
       "      <td>0.0</td>\n",
       "      <td>2.623600e+10</td>\n",
       "      <td>-7.400000e+07</td>\n",
       "      <td>1.670000e+08</td>\n",
       "      <td>-210000000.0</td>\n",
       "      <td>0.0</td>\n",
       "      <td>...</td>\n",
       "      <td>-2.410000e+08</td>\n",
       "      <td>0.0</td>\n",
       "      <td>1.780000e+08</td>\n",
       "      <td>0.0</td>\n",
       "      <td>133000000.0</td>\n",
       "      <td>9.275000e+09</td>\n",
       "      <td>1.665000e+10</td>\n",
       "      <td>8.881000e+10</td>\n",
       "      <td>-252000000.0</td>\n",
       "      <td>8.898800e+10</td>\n",
       "    </tr>\n",
       "  </tbody>\n",
       "</table>\n",
       "<p>4 rows × 22 columns</p>\n",
       "</div>"
      ],
      "text/plain": [
       "            costOfRevenue  discontinuedOperations          ebit  \\\n",
       "2017-12-31   1.119340e+11                     0.0  4.106000e+09   \n",
       "2016-12-31   8.826500e+10                     0.0  4.186000e+09   \n",
       "2015-12-31   7.165100e+10                     0.0  2.233000e+09   \n",
       "2014-12-31   6.275200e+10                     0.0  1.780000e+08   \n",
       "\n",
       "            effectOfAccountingCharges  extraordinaryItems   grossProfit  \\\n",
       "2017-12-31                        0.0                 0.0  6.593200e+10   \n",
       "2016-12-31                        0.0                 0.0  4.772200e+10   \n",
       "2015-12-31                        0.0                 0.0  3.535500e+10   \n",
       "2014-12-31                        0.0                 0.0  2.623600e+10   \n",
       "\n",
       "            incomeBeforeTax  incomeTaxExpense  interestExpense  \\\n",
       "2017-12-31     3.802000e+09      7.690000e+08     -848000000.0   \n",
       "2016-12-31     3.796000e+09      1.425000e+09     -484000000.0   \n",
       "2015-12-31     1.546000e+09      9.500000e+08     -459000000.0   \n",
       "2014-12-31    -7.400000e+07      1.670000e+08     -210000000.0   \n",
       "\n",
       "            minorityInterest      ...       netIncomeFromContinuingOps  \\\n",
       "2017-12-31               0.0      ...                     3.033000e+09   \n",
       "2016-12-31               0.0      ...                     2.371000e+09   \n",
       "2015-12-31               0.0      ...                     5.960000e+08   \n",
       "2014-12-31               0.0      ...                    -2.410000e+08   \n",
       "\n",
       "            nonRecurring  operatingIncome  otherItems  otherOperatingExpenses  \\\n",
       "2017-12-31           0.0     4.106000e+09         0.0             214000000.0   \n",
       "2016-12-31           0.0     4.186000e+09         0.0             167000000.0   \n",
       "2015-12-31           0.0     2.233000e+09         0.0             171000000.0   \n",
       "2014-12-31           0.0     1.780000e+08         0.0             133000000.0   \n",
       "\n",
       "            researchDevelopment  sellingGeneralAdministrative  \\\n",
       "2017-12-31         2.262000e+10                  3.899200e+10   \n",
       "2016-12-31         1.608500e+10                  2.728400e+10   \n",
       "2015-12-31         1.254000e+10                  2.041100e+10   \n",
       "2014-12-31         9.275000e+09                  1.665000e+10   \n",
       "\n",
       "            totalOperatingExpenses  totalOtherIncomeExpenseNet  totalRevenue  \n",
       "2017-12-31            1.737600e+11                -304000000.0  1.778660e+11  \n",
       "2016-12-31            1.318010e+11                -390000000.0  1.359870e+11  \n",
       "2015-12-31            1.047730e+11                -687000000.0  1.070060e+11  \n",
       "2014-12-31            8.881000e+10                -252000000.0  8.898800e+10  \n",
       "\n",
       "[4 rows x 22 columns]"
      ]
     },
     "execution_count": 93,
     "metadata": {},
     "output_type": "execute_result"
    }
   ],
   "source": [
    "#CLEAN UP DATAFRAME\n",
    "df_appl_financial_statement.fillna(0, inplace=True)\n",
    "df_appl_financial_statement = df_appl_financial_statement.drop_duplicates(keep='first')\n",
    "df_appl_financial_statement.head()"
   ]
  },
  {
   "cell_type": "markdown",
   "metadata": {},
   "source": [
    "### Balance Sheet"
   ]
  },
  {
   "cell_type": "code",
   "execution_count": 94,
   "metadata": {},
   "outputs": [
    {
     "data": {
      "text/plain": [
       "{'2016-12-31': {'intangibleAssets': 854000000,\n",
       "  'capitalSurplus': 17186000000,\n",
       "  'totalLiab': 64117000000,\n",
       "  'totalStockholderEquity': 19285000000,\n",
       "  'otherCurrentLiab': 7168000000,\n",
       "  'totalAssets': 83402000000,\n",
       "  'commonStock': 5000000,\n",
       "  'retainedEarnings': 4916000000,\n",
       "  'otherLiab': 5088000000,\n",
       "  'goodWill': 3784000000,\n",
       "  'treasuryStock': -2822000000,\n",
       "  'otherAssets': 3646000000,\n",
       "  'cash': 19334000000,\n",
       "  'totalCurrentLiabilities': 43816000000,\n",
       "  'shortLongTermDebt': 1056000000,\n",
       "  'otherStockholderEquity': -985000000,\n",
       "  'propertyPlantEquipment': 29114000000,\n",
       "  'totalCurrentAssets': 45781000000,\n",
       "  'longTermInvestments': 223000000,\n",
       "  'netTangibleAssets': 14647000000,\n",
       "  'shortTermInvestments': 6647000000,\n",
       "  'netReceivables': 8339000000,\n",
       "  'longTermDebt': 7694000000,\n",
       "  'inventory': 11461000000,\n",
       "  'accountsPayable': 25309000000}}"
      ]
     },
     "execution_count": 94,
     "metadata": {},
     "output_type": "execute_result"
    }
   ],
   "source": [
    "df_appl_balance_statement = pd.DataFrame.from_dict(appl_balance_statement_dict['balanceSheetHistory'][STOCK_PICK][0]).T\n",
    "appl_balance_statement_dict['balanceSheetHistory'][STOCK_PICK][1]\n"
   ]
  },
  {
   "cell_type": "code",
   "execution_count": 95,
   "metadata": {},
   "outputs": [
    {
     "name": "stderr",
     "output_type": "stream",
     "text": [
      "C:\\ProgramData\\Anaconda\\lib\\site-packages\\pandas\\core\\frame.py:6211: FutureWarning: Sorting because non-concatenation axis is not aligned. A future version\n",
      "of pandas will change to not sort by default.\n",
      "\n",
      "To accept the future behavior, pass 'sort=False'.\n",
      "\n",
      "To retain the current behavior and silence the warning, pass 'sort=True'.\n",
      "\n",
      "  sort=sort)\n"
     ]
    }
   ],
   "source": [
    "#CONVERT DICTIONARY TO DATAFRAME\n",
    "for year in range(len(appl_balance_statement_dict['balanceSheetHistory'][STOCK_PICK])):\n",
    "    df_new2 = pd.DataFrame.from_dict(appl_balance_statement_dict['balanceSheetHistory'][STOCK_PICK][year]).T\n",
    "    df_appl_balance_statement = df_appl_balance_statement.append(df_new2)"
   ]
  },
  {
   "cell_type": "code",
   "execution_count": 96,
   "metadata": {},
   "outputs": [
    {
     "data": {
      "text/html": [
       "<div>\n",
       "<style scoped>\n",
       "    .dataframe tbody tr th:only-of-type {\n",
       "        vertical-align: middle;\n",
       "    }\n",
       "\n",
       "    .dataframe tbody tr th {\n",
       "        vertical-align: top;\n",
       "    }\n",
       "\n",
       "    .dataframe thead th {\n",
       "        text-align: right;\n",
       "    }\n",
       "</style>\n",
       "<table border=\"1\" class=\"dataframe\">\n",
       "  <thead>\n",
       "    <tr style=\"text-align: right;\">\n",
       "      <th></th>\n",
       "      <th>accountsPayable</th>\n",
       "      <th>capitalSurplus</th>\n",
       "      <th>cash</th>\n",
       "      <th>commonStock</th>\n",
       "      <th>goodWill</th>\n",
       "      <th>intangibleAssets</th>\n",
       "      <th>inventory</th>\n",
       "      <th>longTermDebt</th>\n",
       "      <th>longTermInvestments</th>\n",
       "      <th>netReceivables</th>\n",
       "      <th>...</th>\n",
       "      <th>propertyPlantEquipment</th>\n",
       "      <th>retainedEarnings</th>\n",
       "      <th>shortLongTermDebt</th>\n",
       "      <th>shortTermInvestments</th>\n",
       "      <th>totalAssets</th>\n",
       "      <th>totalCurrentAssets</th>\n",
       "      <th>totalCurrentLiabilities</th>\n",
       "      <th>totalLiab</th>\n",
       "      <th>totalStockholderEquity</th>\n",
       "      <th>treasuryStock</th>\n",
       "    </tr>\n",
       "  </thead>\n",
       "  <tbody>\n",
       "    <tr>\n",
       "      <th>2017-12-31</th>\n",
       "      <td>34616000000</td>\n",
       "      <td>21389000000</td>\n",
       "      <td>20522000000</td>\n",
       "      <td>5000000</td>\n",
       "      <td>13350000000</td>\n",
       "      <td>3371000000</td>\n",
       "      <td>16047000000</td>\n",
       "      <td>24743000000</td>\n",
       "      <td>441000000.0</td>\n",
       "      <td>13164000000</td>\n",
       "      <td>...</td>\n",
       "      <td>48866000000</td>\n",
       "      <td>8636000000</td>\n",
       "      <td>100000000</td>\n",
       "      <td>10464000000</td>\n",
       "      <td>131310000000</td>\n",
       "      <td>60197000000</td>\n",
       "      <td>57883000000</td>\n",
       "      <td>103601000000</td>\n",
       "      <td>27709000000</td>\n",
       "      <td>-2321000000</td>\n",
       "    </tr>\n",
       "    <tr>\n",
       "      <th>2016-12-31</th>\n",
       "      <td>25309000000</td>\n",
       "      <td>17186000000</td>\n",
       "      <td>19334000000</td>\n",
       "      <td>5000000</td>\n",
       "      <td>3784000000</td>\n",
       "      <td>854000000</td>\n",
       "      <td>11461000000</td>\n",
       "      <td>7694000000</td>\n",
       "      <td>223000000.0</td>\n",
       "      <td>8339000000</td>\n",
       "      <td>...</td>\n",
       "      <td>29114000000</td>\n",
       "      <td>4916000000</td>\n",
       "      <td>1056000000</td>\n",
       "      <td>6647000000</td>\n",
       "      <td>83402000000</td>\n",
       "      <td>45781000000</td>\n",
       "      <td>43816000000</td>\n",
       "      <td>64117000000</td>\n",
       "      <td>19285000000</td>\n",
       "      <td>-2822000000</td>\n",
       "    </tr>\n",
       "    <tr>\n",
       "      <th>2015-12-31</th>\n",
       "      <td>20397000000</td>\n",
       "      <td>13394000000</td>\n",
       "      <td>15890000000</td>\n",
       "      <td>5000000</td>\n",
       "      <td>3759000000</td>\n",
       "      <td>992000000</td>\n",
       "      <td>10243000000</td>\n",
       "      <td>8227000000</td>\n",
       "      <td>16000000.0</td>\n",
       "      <td>5654000000</td>\n",
       "      <td>...</td>\n",
       "      <td>21838000000</td>\n",
       "      <td>2545000000</td>\n",
       "      <td>238000000</td>\n",
       "      <td>3918000000</td>\n",
       "      <td>64747000000</td>\n",
       "      <td>35705000000</td>\n",
       "      <td>33887000000</td>\n",
       "      <td>51363000000</td>\n",
       "      <td>13384000000</td>\n",
       "      <td>-2560000000</td>\n",
       "    </tr>\n",
       "    <tr>\n",
       "      <th>2014-12-31</th>\n",
       "      <td>16459000000</td>\n",
       "      <td>11135000000</td>\n",
       "      <td>14557000000</td>\n",
       "      <td>5000000</td>\n",
       "      <td>3319000000</td>\n",
       "      <td>764000000</td>\n",
       "      <td>8299000000</td>\n",
       "      <td>8265000000</td>\n",
       "      <td>0.0</td>\n",
       "      <td>5612000000</td>\n",
       "      <td>...</td>\n",
       "      <td>16967000000</td>\n",
       "      <td>1949000000</td>\n",
       "      <td>1520000000</td>\n",
       "      <td>2859000000</td>\n",
       "      <td>54505000000</td>\n",
       "      <td>31327000000</td>\n",
       "      <td>28089000000</td>\n",
       "      <td>43764000000</td>\n",
       "      <td>10741000000</td>\n",
       "      <td>-2348000000</td>\n",
       "    </tr>\n",
       "  </tbody>\n",
       "</table>\n",
       "<p>4 rows × 25 columns</p>\n",
       "</div>"
      ],
      "text/plain": [
       "            accountsPayable  capitalSurplus         cash  commonStock  \\\n",
       "2017-12-31      34616000000     21389000000  20522000000      5000000   \n",
       "2016-12-31      25309000000     17186000000  19334000000      5000000   \n",
       "2015-12-31      20397000000     13394000000  15890000000      5000000   \n",
       "2014-12-31      16459000000     11135000000  14557000000      5000000   \n",
       "\n",
       "               goodWill  intangibleAssets    inventory  longTermDebt  \\\n",
       "2017-12-31  13350000000        3371000000  16047000000   24743000000   \n",
       "2016-12-31   3784000000         854000000  11461000000    7694000000   \n",
       "2015-12-31   3759000000         992000000  10243000000    8227000000   \n",
       "2014-12-31   3319000000         764000000   8299000000    8265000000   \n",
       "\n",
       "            longTermInvestments  netReceivables      ...        \\\n",
       "2017-12-31          441000000.0     13164000000      ...         \n",
       "2016-12-31          223000000.0      8339000000      ...         \n",
       "2015-12-31           16000000.0      5654000000      ...         \n",
       "2014-12-31                  0.0      5612000000      ...         \n",
       "\n",
       "            propertyPlantEquipment  retainedEarnings  shortLongTermDebt  \\\n",
       "2017-12-31             48866000000        8636000000          100000000   \n",
       "2016-12-31             29114000000        4916000000         1056000000   \n",
       "2015-12-31             21838000000        2545000000          238000000   \n",
       "2014-12-31             16967000000        1949000000         1520000000   \n",
       "\n",
       "            shortTermInvestments   totalAssets  totalCurrentAssets  \\\n",
       "2017-12-31           10464000000  131310000000         60197000000   \n",
       "2016-12-31            6647000000   83402000000         45781000000   \n",
       "2015-12-31            3918000000   64747000000         35705000000   \n",
       "2014-12-31            2859000000   54505000000         31327000000   \n",
       "\n",
       "            totalCurrentLiabilities     totalLiab  totalStockholderEquity  \\\n",
       "2017-12-31              57883000000  103601000000             27709000000   \n",
       "2016-12-31              43816000000   64117000000             19285000000   \n",
       "2015-12-31              33887000000   51363000000             13384000000   \n",
       "2014-12-31              28089000000   43764000000             10741000000   \n",
       "\n",
       "            treasuryStock  \n",
       "2017-12-31    -2321000000  \n",
       "2016-12-31    -2822000000  \n",
       "2015-12-31    -2560000000  \n",
       "2014-12-31    -2348000000  \n",
       "\n",
       "[4 rows x 25 columns]"
      ]
     },
     "execution_count": 96,
     "metadata": {},
     "output_type": "execute_result"
    }
   ],
   "source": [
    "#CLEAN UP DATAFRAME\n",
    "df_appl_balance_statement.fillna(0, inplace=True)\n",
    "df_appl_balance_statement=df_appl_balance_statement.drop_duplicates(keep='first')\n",
    "df_appl_balance_statement.head()"
   ]
  },
  {
   "cell_type": "code",
   "execution_count": 97,
   "metadata": {},
   "outputs": [],
   "source": [
    "df_health_metrics = pd.DataFrame({'currentRatio' : []})"
   ]
  },
  {
   "cell_type": "markdown",
   "metadata": {},
   "source": [
    "# Company health metrics"
   ]
  },
  {
   "cell_type": "markdown",
   "metadata": {},
   "source": [
    "### CURRENT RATIO\n",
    "\n",
    "$\n",
    "\\begin{align*}\n",
    "currentRatio = \\frac{currentAsset}{currentLiabilities} \\\\\n",
    "\\end{align*}\n",
    "$\n"
   ]
  },
  {
   "cell_type": "code",
   "execution_count": 98,
   "metadata": {},
   "outputs": [],
   "source": [
    "#CALCULATE CURRENT RATIO\n",
    "df_health_metrics['currentRatio'] = df_appl_balance_statement['totalCurrentAssets']/df_appl_balance_statement['totalCurrentLiabilities']"
   ]
  },
  {
   "cell_type": "code",
   "execution_count": 99,
   "metadata": {},
   "outputs": [
    {
     "data": {
      "text/html": [
       "<div>\n",
       "<style scoped>\n",
       "    .dataframe tbody tr th:only-of-type {\n",
       "        vertical-align: middle;\n",
       "    }\n",
       "\n",
       "    .dataframe tbody tr th {\n",
       "        vertical-align: top;\n",
       "    }\n",
       "\n",
       "    .dataframe thead th {\n",
       "        text-align: right;\n",
       "    }\n",
       "</style>\n",
       "<table border=\"1\" class=\"dataframe\">\n",
       "  <thead>\n",
       "    <tr style=\"text-align: right;\">\n",
       "      <th></th>\n",
       "      <th>currentRatio</th>\n",
       "      <th>totalCurrentAssets</th>\n",
       "      <th>totalCurrentLiabilities</th>\n",
       "    </tr>\n",
       "  </thead>\n",
       "  <tbody>\n",
       "    <tr>\n",
       "      <th>2017-12-31</th>\n",
       "      <td>1.039977</td>\n",
       "      <td>60197000000</td>\n",
       "      <td>57883000000</td>\n",
       "    </tr>\n",
       "    <tr>\n",
       "      <th>2016-12-31</th>\n",
       "      <td>1.044847</td>\n",
       "      <td>45781000000</td>\n",
       "      <td>43816000000</td>\n",
       "    </tr>\n",
       "    <tr>\n",
       "      <th>2015-12-31</th>\n",
       "      <td>1.053649</td>\n",
       "      <td>35705000000</td>\n",
       "      <td>33887000000</td>\n",
       "    </tr>\n",
       "    <tr>\n",
       "      <th>2014-12-31</th>\n",
       "      <td>1.115276</td>\n",
       "      <td>31327000000</td>\n",
       "      <td>28089000000</td>\n",
       "    </tr>\n",
       "  </tbody>\n",
       "</table>\n",
       "</div>"
      ],
      "text/plain": [
       "            currentRatio  totalCurrentAssets  totalCurrentLiabilities\n",
       "2017-12-31      1.039977         60197000000              57883000000\n",
       "2016-12-31      1.044847         45781000000              43816000000\n",
       "2015-12-31      1.053649         35705000000              33887000000\n",
       "2014-12-31      1.115276         31327000000              28089000000"
      ]
     },
     "execution_count": 99,
     "metadata": {},
     "output_type": "execute_result"
    }
   ],
   "source": [
    "df_current_ratio = pd.DataFrame({'currentRatio' : df_health_metrics['currentRatio']})\n",
    "df_current_ratio['totalCurrentAssets'] = df_appl_balance_statement['totalCurrentAssets']\n",
    "df_current_ratio['totalCurrentLiabilities'] = df_appl_balance_statement['totalCurrentLiabilities']\n",
    "df_current_ratio[['currentRatio', 'totalCurrentAssets','totalCurrentLiabilities']]"
   ]
  },
  {
   "cell_type": "code",
   "execution_count": 100,
   "metadata": {},
   "outputs": [
    {
     "data": {
      "image/png": "[encoded data removed]",
      "text/plain": [
       "<Figure size 432x288 with 1 Axes>"
      ]
     },
     "metadata": {
      "needs_background": "light"
     },
     "output_type": "display_data"
    }
   ],
   "source": [
    "plt.ylabel('currentRatio')\n",
    "y=df_health_metrics['currentRatio'][::-1]\n",
    "x=df_health_metrics.index[::-1]\n",
    "plt.plot(x,y)\n",
    "plt.show()"
   ]
  },
  {
   "cell_type": "markdown",
   "metadata": {},
   "source": [
    "### DSO - Days Sales Outstanding\n",
    "Days between delivery and payment\n",
    "$\n",
    "\\begin{align*}\n",
    "DSO = \\frac{netReceivables}{revenue} *360\\\\\n",
    "\\end{align*}\n",
    "$"
   ]
  },
  {
   "cell_type": "code",
   "execution_count": 101,
   "metadata": {},
   "outputs": [],
   "source": [
    "#CALCULATE DSO\n",
    "df_health_metrics['dso']=df_appl_balance_statement['netReceivables']/(df_appl_financial_statement['totalRevenue'])*360"
   ]
  },
  {
   "cell_type": "code",
   "execution_count": 102,
   "metadata": {},
   "outputs": [
    {
     "data": {
      "text/html": [
       "<div>\n",
       "<style scoped>\n",
       "    .dataframe tbody tr th:only-of-type {\n",
       "        vertical-align: middle;\n",
       "    }\n",
       "\n",
       "    .dataframe tbody tr th {\n",
       "        vertical-align: top;\n",
       "    }\n",
       "\n",
       "    .dataframe thead th {\n",
       "        text-align: right;\n",
       "    }\n",
       "</style>\n",
       "<table border=\"1\" class=\"dataframe\">\n",
       "  <thead>\n",
       "    <tr style=\"text-align: right;\">\n",
       "      <th></th>\n",
       "      <th>dso</th>\n",
       "      <th>netReceivables</th>\n",
       "      <th>totalRevenue</th>\n",
       "    </tr>\n",
       "  </thead>\n",
       "  <tbody>\n",
       "    <tr>\n",
       "      <th>2017-12-31</th>\n",
       "      <td>26.643878</td>\n",
       "      <td>13164000000</td>\n",
       "      <td>1.778660e+11</td>\n",
       "    </tr>\n",
       "    <tr>\n",
       "      <th>2016-12-31</th>\n",
       "      <td>22.075934</td>\n",
       "      <td>8339000000</td>\n",
       "      <td>1.359870e+11</td>\n",
       "    </tr>\n",
       "    <tr>\n",
       "      <th>2015-12-31</th>\n",
       "      <td>19.021737</td>\n",
       "      <td>5654000000</td>\n",
       "      <td>1.070060e+11</td>\n",
       "    </tr>\n",
       "    <tr>\n",
       "      <th>2014-12-31</th>\n",
       "      <td>22.703286</td>\n",
       "      <td>5612000000</td>\n",
       "      <td>8.898800e+10</td>\n",
       "    </tr>\n",
       "  </tbody>\n",
       "</table>\n",
       "</div>"
      ],
      "text/plain": [
       "                  dso  netReceivables  totalRevenue\n",
       "2017-12-31  26.643878     13164000000  1.778660e+11\n",
       "2016-12-31  22.075934      8339000000  1.359870e+11\n",
       "2015-12-31  19.021737      5654000000  1.070060e+11\n",
       "2014-12-31  22.703286      5612000000  8.898800e+10"
      ]
     },
     "execution_count": 102,
     "metadata": {},
     "output_type": "execute_result"
    }
   ],
   "source": [
    "df_dso = pd.DataFrame({'dso' : df_health_metrics['dso']})\n",
    "df_dso['netReceivables'] = df_appl_balance_statement['netReceivables']\n",
    "df_dso['totalRevenue'] = df_appl_financial_statement['totalRevenue']\n",
    "df_dso"
   ]
  },
  {
   "cell_type": "code",
   "execution_count": 103,
   "metadata": {},
   "outputs": [
    {
     "data": {
      "image/png": "[encoded data removed]",
      "text/plain": [
       "<Figure size 432x288 with 1 Axes>"
      ]
     },
     "metadata": {
      "needs_background": "light"
     },
     "output_type": "display_data"
    }
   ],
   "source": [
    "plt.ylabel('dso')\n",
    "y=df_health_metrics['dso'][::-1]\n",
    "x=df_health_metrics.index[::-1]\n",
    "plt.plot(x,y)\n",
    "plt.show()"
   ]
  },
  {
   "cell_type": "markdown",
   "metadata": {},
   "source": [
    "### DIO - Days Sales of Inventory\n",
    "\n",
    "$\n",
    "\\begin{align*}\n",
    "DIO = \\frac{inventory}{costOfRevenue} *360\\\\\n",
    "\\end{align*}\n",
    "$"
   ]
  },
  {
   "cell_type": "code",
   "execution_count": 104,
   "metadata": {},
   "outputs": [],
   "source": [
    "#Calculate DIO\n",
    "# df_appl_balance_statement['inventory']\n",
    "# df_appl_financial_statement['costOfRevenue']\n",
    "# df_appl_balance_statement['inventory'] = 0\n",
    "# df_appl_financial_statement['costOfRevenue'] = 0\n",
    "df_health_metrics['dio']=(df_appl_balance_statement['inventory']/df_appl_financial_statement['costOfRevenue'])*360"
   ]
  },
  {
   "cell_type": "code",
   "execution_count": 105,
   "metadata": {},
   "outputs": [
    {
     "data": {
      "text/html": [
       "<div>\n",
       "<style scoped>\n",
       "    .dataframe tbody tr th:only-of-type {\n",
       "        vertical-align: middle;\n",
       "    }\n",
       "\n",
       "    .dataframe tbody tr th {\n",
       "        vertical-align: top;\n",
       "    }\n",
       "\n",
       "    .dataframe thead th {\n",
       "        text-align: right;\n",
       "    }\n",
       "</style>\n",
       "<table border=\"1\" class=\"dataframe\">\n",
       "  <thead>\n",
       "    <tr style=\"text-align: right;\">\n",
       "      <th></th>\n",
       "      <th>dio</th>\n",
       "      <th>inventory</th>\n",
       "      <th>costOfRevenue</th>\n",
       "    </tr>\n",
       "  </thead>\n",
       "  <tbody>\n",
       "    <tr>\n",
       "      <th>2017-12-31</th>\n",
       "      <td>51.610056</td>\n",
       "      <td>16047000000</td>\n",
       "      <td>1.119340e+11</td>\n",
       "    </tr>\n",
       "    <tr>\n",
       "      <th>2016-12-31</th>\n",
       "      <td>46.745142</td>\n",
       "      <td>11461000000</td>\n",
       "      <td>8.826500e+10</td>\n",
       "    </tr>\n",
       "    <tr>\n",
       "      <th>2015-12-31</th>\n",
       "      <td>51.464460</td>\n",
       "      <td>10243000000</td>\n",
       "      <td>7.165100e+10</td>\n",
       "    </tr>\n",
       "    <tr>\n",
       "      <th>2014-12-31</th>\n",
       "      <td>47.610275</td>\n",
       "      <td>8299000000</td>\n",
       "      <td>6.275200e+10</td>\n",
       "    </tr>\n",
       "  </tbody>\n",
       "</table>\n",
       "</div>"
      ],
      "text/plain": [
       "                  dio    inventory  costOfRevenue\n",
       "2017-12-31  51.610056  16047000000   1.119340e+11\n",
       "2016-12-31  46.745142  11461000000   8.826500e+10\n",
       "2015-12-31  51.464460  10243000000   7.165100e+10\n",
       "2014-12-31  47.610275   8299000000   6.275200e+10"
      ]
     },
     "execution_count": 105,
     "metadata": {},
     "output_type": "execute_result"
    }
   ],
   "source": [
    "df_dio = pd.DataFrame({'dio' : df_health_metrics['dio']})\n",
    "df_dio['inventory'] = df_appl_balance_statement['inventory']\n",
    "df_dio['costOfRevenue'] = df_appl_financial_statement['costOfRevenue']\n",
    "df_dio"
   ]
  },
  {
   "cell_type": "code",
   "execution_count": 106,
   "metadata": {},
   "outputs": [
    {
     "data": {
      "image/png": "[encoded data removed]",
      "text/plain": [
       "<Figure size 432x288 with 1 Axes>"
      ]
     },
     "metadata": {
      "needs_background": "light"
     },
     "output_type": "display_data"
    }
   ],
   "source": [
    "plt.ylabel('dio')\n",
    "y=df_health_metrics['dio'][::-1]\n",
    "x=df_health_metrics.index[::-1]\n",
    "plt.plot(x,y)\n",
    "plt.show()"
   ]
  },
  {
   "cell_type": "markdown",
   "metadata": {},
   "source": [
    "### DPO - Days Payable Outstanding\n",
    "\n",
    "$\n",
    "\\begin{align*}\n",
    "DPO = \\frac{accountPayable}{costOfRevenue} *360\\\\\n",
    "\\end{align*}\n",
    "$"
   ]
  },
  {
   "cell_type": "code",
   "execution_count": 107,
   "metadata": {},
   "outputs": [],
   "source": [
    "#DPO = Account Payable/Cost of Good Sold * 360\n",
    "df_health_metrics['dpo']=(df_appl_balance_statement['accountsPayable']/df_appl_financial_statement['costOfRevenue'])*360"
   ]
  },
  {
   "cell_type": "code",
   "execution_count": 108,
   "metadata": {},
   "outputs": [
    {
     "data": {
      "text/html": [
       "<div>\n",
       "<style scoped>\n",
       "    .dataframe tbody tr th:only-of-type {\n",
       "        vertical-align: middle;\n",
       "    }\n",
       "\n",
       "    .dataframe tbody tr th {\n",
       "        vertical-align: top;\n",
       "    }\n",
       "\n",
       "    .dataframe thead th {\n",
       "        text-align: right;\n",
       "    }\n",
       "</style>\n",
       "<table border=\"1\" class=\"dataframe\">\n",
       "  <thead>\n",
       "    <tr style=\"text-align: right;\">\n",
       "      <th></th>\n",
       "      <th>dpo</th>\n",
       "      <th>accountsPayable</th>\n",
       "      <th>costOfRevenue</th>\n",
       "    </tr>\n",
       "  </thead>\n",
       "  <tbody>\n",
       "    <tr>\n",
       "      <th>2017-12-31</th>\n",
       "      <td>111.331320</td>\n",
       "      <td>34616000000</td>\n",
       "      <td>1.119340e+11</td>\n",
       "    </tr>\n",
       "    <tr>\n",
       "      <th>2016-12-31</th>\n",
       "      <td>103.225967</td>\n",
       "      <td>25309000000</td>\n",
       "      <td>8.826500e+10</td>\n",
       "    </tr>\n",
       "    <tr>\n",
       "      <th>2015-12-31</th>\n",
       "      <td>102.481752</td>\n",
       "      <td>20397000000</td>\n",
       "      <td>7.165100e+10</td>\n",
       "    </tr>\n",
       "    <tr>\n",
       "      <th>2014-12-31</th>\n",
       "      <td>94.423126</td>\n",
       "      <td>16459000000</td>\n",
       "      <td>6.275200e+10</td>\n",
       "    </tr>\n",
       "  </tbody>\n",
       "</table>\n",
       "</div>"
      ],
      "text/plain": [
       "                   dpo  accountsPayable  costOfRevenue\n",
       "2017-12-31  111.331320      34616000000   1.119340e+11\n",
       "2016-12-31  103.225967      25309000000   8.826500e+10\n",
       "2015-12-31  102.481752      20397000000   7.165100e+10\n",
       "2014-12-31   94.423126      16459000000   6.275200e+10"
      ]
     },
     "execution_count": 108,
     "metadata": {},
     "output_type": "execute_result"
    }
   ],
   "source": [
    "df_dpo = pd.DataFrame({'dpo' : df_health_metrics['dpo']})\n",
    "df_dpo['accountsPayable'] = df_appl_balance_statement['accountsPayable']\n",
    "df_dpo['costOfRevenue'] = df_appl_financial_statement['costOfRevenue']\n",
    "df_dpo"
   ]
  },
  {
   "cell_type": "code",
   "execution_count": 109,
   "metadata": {},
   "outputs": [
    {
     "data": {
      "image/png": "[encoded data removed]",
      "text/plain": [
       "<Figure size 432x288 with 1 Axes>"
      ]
     },
     "metadata": {
      "needs_background": "light"
     },
     "output_type": "display_data"
    }
   ],
   "source": [
    "plt.ylabel('dpo')\n",
    "y=df_health_metrics['dpo'][::-1]\n",
    "x=df_health_metrics.index[::-1]\n",
    "plt.plot(x,y)\n",
    "plt.show()"
   ]
  },
  {
   "cell_type": "markdown",
   "metadata": {},
   "source": [
    "### Net Trade Cycle \n",
    "\n",
    "$\n",
    "\\begin{align*}\n",
    "netTradeCycle = DSO + DIO -DPO \\\\\n",
    "\\end{align*}\n",
    "$"
   ]
  },
  {
   "cell_type": "code",
   "execution_count": 110,
   "metadata": {},
   "outputs": [],
   "source": [
    "#Net Trade Cycle = DSO + DIO - DPO (-)\n",
    "df_health_metrics['netTradeCycle'] = df_health_metrics['dso'] + df_health_metrics['dio'] - df_health_metrics['dpo']"
   ]
  },
  {
   "cell_type": "code",
   "execution_count": 111,
   "metadata": {},
   "outputs": [
    {
     "data": {
      "text/html": [
       "<div>\n",
       "<style scoped>\n",
       "    .dataframe tbody tr th:only-of-type {\n",
       "        vertical-align: middle;\n",
       "    }\n",
       "\n",
       "    .dataframe tbody tr th {\n",
       "        vertical-align: top;\n",
       "    }\n",
       "\n",
       "    .dataframe thead th {\n",
       "        text-align: right;\n",
       "    }\n",
       "</style>\n",
       "<table border=\"1\" class=\"dataframe\">\n",
       "  <thead>\n",
       "    <tr style=\"text-align: right;\">\n",
       "      <th></th>\n",
       "      <th>netTradeCycle</th>\n",
       "      <th>dso</th>\n",
       "      <th>dio</th>\n",
       "      <th>dpo</th>\n",
       "    </tr>\n",
       "  </thead>\n",
       "  <tbody>\n",
       "    <tr>\n",
       "      <th>2017-12-31</th>\n",
       "      <td>-33.077386</td>\n",
       "      <td>26.643878</td>\n",
       "      <td>51.610056</td>\n",
       "      <td>111.331320</td>\n",
       "    </tr>\n",
       "    <tr>\n",
       "      <th>2016-12-31</th>\n",
       "      <td>-34.404891</td>\n",
       "      <td>22.075934</td>\n",
       "      <td>46.745142</td>\n",
       "      <td>103.225967</td>\n",
       "    </tr>\n",
       "    <tr>\n",
       "      <th>2015-12-31</th>\n",
       "      <td>-31.995555</td>\n",
       "      <td>19.021737</td>\n",
       "      <td>51.464460</td>\n",
       "      <td>102.481752</td>\n",
       "    </tr>\n",
       "    <tr>\n",
       "      <th>2014-12-31</th>\n",
       "      <td>-24.109565</td>\n",
       "      <td>22.703286</td>\n",
       "      <td>47.610275</td>\n",
       "      <td>94.423126</td>\n",
       "    </tr>\n",
       "  </tbody>\n",
       "</table>\n",
       "</div>"
      ],
      "text/plain": [
       "            netTradeCycle        dso        dio         dpo\n",
       "2017-12-31     -33.077386  26.643878  51.610056  111.331320\n",
       "2016-12-31     -34.404891  22.075934  46.745142  103.225967\n",
       "2015-12-31     -31.995555  19.021737  51.464460  102.481752\n",
       "2014-12-31     -24.109565  22.703286  47.610275   94.423126"
      ]
     },
     "execution_count": 111,
     "metadata": {},
     "output_type": "execute_result"
    }
   ],
   "source": [
    "df_nettrade = pd.DataFrame({'netTradeCycle' : df_health_metrics['netTradeCycle']})\n",
    "df_nettrade['dso'] = df_health_metrics['dso']\n",
    "df_nettrade['dio'] = df_health_metrics['dio']\n",
    "df_nettrade['dpo'] = df_health_metrics['dpo']\n",
    "df_nettrade"
   ]
  },
  {
   "cell_type": "code",
   "execution_count": 112,
   "metadata": {},
   "outputs": [
    {
     "data": {
      "image/png": "[encoded data removed]",
      "text/plain": [
       "<Figure size 432x288 with 1 Axes>"
      ]
     },
     "metadata": {
      "needs_background": "light"
     },
     "output_type": "display_data"
    }
   ],
   "source": [
    "plt.ylabel('netTradeCycle')\n",
    "y=df_health_metrics['netTradeCycle'][::-1]\n",
    "x=df_health_metrics.index[::-1]\n",
    "plt.plot(x,y)\n",
    "plt.show()"
   ]
  },
  {
   "cell_type": "markdown",
   "metadata": {},
   "source": [
    "### Debt Ratio\n",
    "\n",
    "$\n",
    "\\begin{align*}\n",
    "debtRatio = \\frac{totalLiability}{totalAsset} \\\\\n",
    "\\end{align*}\n",
    "$"
   ]
  },
  {
   "cell_type": "code",
   "execution_count": 113,
   "metadata": {},
   "outputs": [],
   "source": [
    "#Debt Ratio = Total Liability/ Total Asset\n",
    "df_health_metrics['debtRatio'] = df_appl_balance_statement['totalLiab']/df_appl_balance_statement['totalAssets']"
   ]
  },
  {
   "cell_type": "code",
   "execution_count": 114,
   "metadata": {},
   "outputs": [
    {
     "data": {
      "text/html": [
       "<div>\n",
       "<style scoped>\n",
       "    .dataframe tbody tr th:only-of-type {\n",
       "        vertical-align: middle;\n",
       "    }\n",
       "\n",
       "    .dataframe tbody tr th {\n",
       "        vertical-align: top;\n",
       "    }\n",
       "\n",
       "    .dataframe thead th {\n",
       "        text-align: right;\n",
       "    }\n",
       "</style>\n",
       "<table border=\"1\" class=\"dataframe\">\n",
       "  <thead>\n",
       "    <tr style=\"text-align: right;\">\n",
       "      <th></th>\n",
       "      <th>debtRatio</th>\n",
       "      <th>totalLiab</th>\n",
       "      <th>totalAssets</th>\n",
       "    </tr>\n",
       "  </thead>\n",
       "  <tbody>\n",
       "    <tr>\n",
       "      <th>2017-12-31</th>\n",
       "      <td>0.788980</td>\n",
       "      <td>103601000000</td>\n",
       "      <td>131310000000</td>\n",
       "    </tr>\n",
       "    <tr>\n",
       "      <th>2016-12-31</th>\n",
       "      <td>0.768771</td>\n",
       "      <td>64117000000</td>\n",
       "      <td>83402000000</td>\n",
       "    </tr>\n",
       "    <tr>\n",
       "      <th>2015-12-31</th>\n",
       "      <td>0.793288</td>\n",
       "      <td>51363000000</td>\n",
       "      <td>64747000000</td>\n",
       "    </tr>\n",
       "    <tr>\n",
       "      <th>2014-12-31</th>\n",
       "      <td>0.802936</td>\n",
       "      <td>43764000000</td>\n",
       "      <td>54505000000</td>\n",
       "    </tr>\n",
       "  </tbody>\n",
       "</table>\n",
       "</div>"
      ],
      "text/plain": [
       "            debtRatio     totalLiab   totalAssets\n",
       "2017-12-31   0.788980  103601000000  131310000000\n",
       "2016-12-31   0.768771   64117000000   83402000000\n",
       "2015-12-31   0.793288   51363000000   64747000000\n",
       "2014-12-31   0.802936   43764000000   54505000000"
      ]
     },
     "execution_count": 114,
     "metadata": {},
     "output_type": "execute_result"
    }
   ],
   "source": [
    "df_debtratio = pd.DataFrame({'debtRatio' : df_health_metrics['debtRatio']})\n",
    "df_debtratio['totalLiab'] = df_appl_balance_statement['totalLiab']\n",
    "df_debtratio['totalAssets'] = df_appl_balance_statement['totalAssets']\n",
    "df_debtratio"
   ]
  },
  {
   "cell_type": "code",
   "execution_count": 115,
   "metadata": {},
   "outputs": [
    {
     "data": {
      "image/png": "[encoded data removed]",
      "text/plain": [
       "<Figure size 432x288 with 1 Axes>"
      ]
     },
     "metadata": {
      "needs_background": "light"
     },
     "output_type": "display_data"
    }
   ],
   "source": [
    "plt.ylabel('debtRatio')\n",
    "y=df_health_metrics['debtRatio'][::-1]\n",
    "x=df_health_metrics.index[::-1]\n",
    "plt.plot(x,y)\n",
    "plt.show()"
   ]
  },
  {
   "cell_type": "markdown",
   "metadata": {},
   "source": [
    "### Interest Coverage\n",
    "\n",
    "$\n",
    "\\begin{align*}\n",
    "interestCoverage = \\frac{EBIT}{interestExpense} \\\\\n",
    "\\end{align*}\n",
    "$"
   ]
  },
  {
   "cell_type": "code",
   "execution_count": 116,
   "metadata": {},
   "outputs": [],
   "source": [
    "#Interest Coverage = EBIT/Interest Expense\n",
    "df_health_metrics['interestCoverage']=df_appl_financial_statement['ebit']/(-1*df_appl_financial_statement['interestExpense'])"
   ]
  },
  {
   "cell_type": "code",
   "execution_count": 117,
   "metadata": {},
   "outputs": [
    {
     "data": {
      "text/html": [
       "<div>\n",
       "<style scoped>\n",
       "    .dataframe tbody tr th:only-of-type {\n",
       "        vertical-align: middle;\n",
       "    }\n",
       "\n",
       "    .dataframe tbody tr th {\n",
       "        vertical-align: top;\n",
       "    }\n",
       "\n",
       "    .dataframe thead th {\n",
       "        text-align: right;\n",
       "    }\n",
       "</style>\n",
       "<table border=\"1\" class=\"dataframe\">\n",
       "  <thead>\n",
       "    <tr style=\"text-align: right;\">\n",
       "      <th></th>\n",
       "      <th>interestCoverage</th>\n",
       "      <th>ebit</th>\n",
       "      <th>interestExpense</th>\n",
       "    </tr>\n",
       "  </thead>\n",
       "  <tbody>\n",
       "    <tr>\n",
       "      <th>2017-12-31</th>\n",
       "      <td>4.841981</td>\n",
       "      <td>4.106000e+09</td>\n",
       "      <td>-848000000.0</td>\n",
       "    </tr>\n",
       "    <tr>\n",
       "      <th>2016-12-31</th>\n",
       "      <td>8.648760</td>\n",
       "      <td>4.186000e+09</td>\n",
       "      <td>-484000000.0</td>\n",
       "    </tr>\n",
       "    <tr>\n",
       "      <th>2015-12-31</th>\n",
       "      <td>4.864924</td>\n",
       "      <td>2.233000e+09</td>\n",
       "      <td>-459000000.0</td>\n",
       "    </tr>\n",
       "    <tr>\n",
       "      <th>2014-12-31</th>\n",
       "      <td>0.847619</td>\n",
       "      <td>1.780000e+08</td>\n",
       "      <td>-210000000.0</td>\n",
       "    </tr>\n",
       "  </tbody>\n",
       "</table>\n",
       "</div>"
      ],
      "text/plain": [
       "            interestCoverage          ebit  interestExpense\n",
       "2017-12-31          4.841981  4.106000e+09     -848000000.0\n",
       "2016-12-31          8.648760  4.186000e+09     -484000000.0\n",
       "2015-12-31          4.864924  2.233000e+09     -459000000.0\n",
       "2014-12-31          0.847619  1.780000e+08     -210000000.0"
      ]
     },
     "execution_count": 117,
     "metadata": {},
     "output_type": "execute_result"
    }
   ],
   "source": [
    "df_interestcov = pd.DataFrame({'interestCoverage' : df_health_metrics['interestCoverage']})\n",
    "df_interestcov['ebit'] = df_appl_financial_statement['ebit']\n",
    "df_interestcov['interestExpense'] = df_appl_financial_statement['interestExpense']\n",
    "df_interestcov"
   ]
  },
  {
   "cell_type": "code",
   "execution_count": 118,
   "metadata": {},
   "outputs": [
    {
     "data": {
      "image/png": "[encoded data removed]",
      "text/plain": [
       "<Figure size 432x288 with 1 Axes>"
      ]
     },
     "metadata": {
      "needs_background": "light"
     },
     "output_type": "display_data"
    }
   ],
   "source": [
    "plt.ylabel('interestCoverage')\n",
    "y=df_health_metrics['interestCoverage'][::-1]\n",
    "x=df_health_metrics.index[::-1]\n",
    "plt.plot(x,y)\n",
    "plt.show()"
   ]
  },
  {
   "cell_type": "markdown",
   "metadata": {},
   "source": [
    "### ROA- Return on Asset\n",
    "\n",
    "$\n",
    "\\begin{align*}\n",
    "ROA = \\frac{EBIT}{totalAsset} \\\\\n",
    "\\end{align*}\n",
    "$"
   ]
  },
  {
   "cell_type": "code",
   "execution_count": 119,
   "metadata": {},
   "outputs": [],
   "source": [
    "#ROA = EBIT/Total Asset\n",
    "df_health_metrics['roa'] = df_appl_financial_statement['ebit']/df_appl_balance_statement['totalAssets']*100"
   ]
  },
  {
   "cell_type": "code",
   "execution_count": 120,
   "metadata": {},
   "outputs": [
    {
     "data": {
      "text/html": [
       "<div>\n",
       "<style scoped>\n",
       "    .dataframe tbody tr th:only-of-type {\n",
       "        vertical-align: middle;\n",
       "    }\n",
       "\n",
       "    .dataframe tbody tr th {\n",
       "        vertical-align: top;\n",
       "    }\n",
       "\n",
       "    .dataframe thead th {\n",
       "        text-align: right;\n",
       "    }\n",
       "</style>\n",
       "<table border=\"1\" class=\"dataframe\">\n",
       "  <thead>\n",
       "    <tr style=\"text-align: right;\">\n",
       "      <th></th>\n",
       "      <th>roa</th>\n",
       "      <th>ebit</th>\n",
       "      <th>totalAssets</th>\n",
       "    </tr>\n",
       "  </thead>\n",
       "  <tbody>\n",
       "    <tr>\n",
       "      <th>2017-12-31</th>\n",
       "      <td>3.126951</td>\n",
       "      <td>4.106000e+09</td>\n",
       "      <td>131310000000</td>\n",
       "    </tr>\n",
       "    <tr>\n",
       "      <th>2016-12-31</th>\n",
       "      <td>5.019064</td>\n",
       "      <td>4.186000e+09</td>\n",
       "      <td>83402000000</td>\n",
       "    </tr>\n",
       "    <tr>\n",
       "      <th>2015-12-31</th>\n",
       "      <td>3.448808</td>\n",
       "      <td>2.233000e+09</td>\n",
       "      <td>64747000000</td>\n",
       "    </tr>\n",
       "    <tr>\n",
       "      <th>2014-12-31</th>\n",
       "      <td>0.326576</td>\n",
       "      <td>1.780000e+08</td>\n",
       "      <td>54505000000</td>\n",
       "    </tr>\n",
       "  </tbody>\n",
       "</table>\n",
       "</div>"
      ],
      "text/plain": [
       "                 roa          ebit   totalAssets\n",
       "2017-12-31  3.126951  4.106000e+09  131310000000\n",
       "2016-12-31  5.019064  4.186000e+09   83402000000\n",
       "2015-12-31  3.448808  2.233000e+09   64747000000\n",
       "2014-12-31  0.326576  1.780000e+08   54505000000"
      ]
     },
     "execution_count": 120,
     "metadata": {},
     "output_type": "execute_result"
    }
   ],
   "source": [
    "df_roa = pd.DataFrame({'roa' : df_health_metrics['roa']})\n",
    "df_roa['ebit'] = df_appl_financial_statement['ebit']\n",
    "df_roa['totalAssets'] = df_appl_balance_statement['totalAssets']\n",
    "df_roa"
   ]
  },
  {
   "cell_type": "code",
   "execution_count": 121,
   "metadata": {},
   "outputs": [
    {
     "data": {
      "image/png": "[encoded data removed]",
      "text/plain": [
       "<Figure size 432x288 with 1 Axes>"
      ]
     },
     "metadata": {
      "needs_background": "light"
     },
     "output_type": "display_data"
    }
   ],
   "source": [
    "plt.ylabel('roa')\n",
    "y=df_health_metrics['roa'][::-1]\n",
    "x=df_health_metrics.index[::-1]\n",
    "plt.plot(x,y)\n",
    "plt.show()"
   ]
  },
  {
   "cell_type": "markdown",
   "metadata": {},
   "source": [
    "### ROE- Return on Equity\n",
    "\n",
    "$\n",
    "\\begin{align*}\n",
    "ROE = \\frac{netIncome}{totalEquity} \\\\\n",
    "\\end{align*}\n",
    "$"
   ]
  },
  {
   "cell_type": "code",
   "execution_count": 122,
   "metadata": {},
   "outputs": [],
   "source": [
    "#ROI = Net Income/Total Equity\n",
    "df_health_metrics['roe'] =df_appl_financial_statement['netIncome']/df_appl_balance_statement['totalStockholderEquity']*100"
   ]
  },
  {
   "cell_type": "code",
   "execution_count": 123,
   "metadata": {},
   "outputs": [
    {
     "data": {
      "text/html": [
       "<div>\n",
       "<style scoped>\n",
       "    .dataframe tbody tr th:only-of-type {\n",
       "        vertical-align: middle;\n",
       "    }\n",
       "\n",
       "    .dataframe tbody tr th {\n",
       "        vertical-align: top;\n",
       "    }\n",
       "\n",
       "    .dataframe thead th {\n",
       "        text-align: right;\n",
       "    }\n",
       "</style>\n",
       "<table border=\"1\" class=\"dataframe\">\n",
       "  <thead>\n",
       "    <tr style=\"text-align: right;\">\n",
       "      <th></th>\n",
       "      <th>roe</th>\n",
       "      <th>netIncome</th>\n",
       "      <th>totalStockholderEquity</th>\n",
       "    </tr>\n",
       "  </thead>\n",
       "  <tbody>\n",
       "    <tr>\n",
       "      <th>2017-12-31</th>\n",
       "      <td>10.945902</td>\n",
       "      <td>3.033000e+09</td>\n",
       "      <td>27709000000</td>\n",
       "    </tr>\n",
       "    <tr>\n",
       "      <th>2016-12-31</th>\n",
       "      <td>12.294529</td>\n",
       "      <td>2.371000e+09</td>\n",
       "      <td>19285000000</td>\n",
       "    </tr>\n",
       "    <tr>\n",
       "      <th>2015-12-31</th>\n",
       "      <td>4.453078</td>\n",
       "      <td>5.960000e+08</td>\n",
       "      <td>13384000000</td>\n",
       "    </tr>\n",
       "    <tr>\n",
       "      <th>2014-12-31</th>\n",
       "      <td>-2.243739</td>\n",
       "      <td>-2.410000e+08</td>\n",
       "      <td>10741000000</td>\n",
       "    </tr>\n",
       "  </tbody>\n",
       "</table>\n",
       "</div>"
      ],
      "text/plain": [
       "                  roe     netIncome  totalStockholderEquity\n",
       "2017-12-31  10.945902  3.033000e+09             27709000000\n",
       "2016-12-31  12.294529  2.371000e+09             19285000000\n",
       "2015-12-31   4.453078  5.960000e+08             13384000000\n",
       "2014-12-31  -2.243739 -2.410000e+08             10741000000"
      ]
     },
     "execution_count": 123,
     "metadata": {},
     "output_type": "execute_result"
    }
   ],
   "source": [
    "df_roi = pd.DataFrame({'roe' : df_health_metrics['roe']})\n",
    "df_roi['netIncome'] = df_appl_financial_statement['netIncome']\n",
    "df_roi['totalStockholderEquity'] = df_appl_balance_statement['totalStockholderEquity']\n",
    "df_roi"
   ]
  },
  {
   "cell_type": "code",
   "execution_count": 124,
   "metadata": {},
   "outputs": [
    {
     "data": {
      "image/png": "[encoded data removed]",
      "text/plain": [
       "<Figure size 432x288 with 1 Axes>"
      ]
     },
     "metadata": {
      "needs_background": "light"
     },
     "output_type": "display_data"
    }
   ],
   "source": [
    "plt.ylabel('roe')\n",
    "y=df_health_metrics['roe'][::-1]\n",
    "x=df_health_metrics.index[::-1]\n",
    "plt.plot(x,y)\n",
    "plt.show()"
   ]
  },
  {
   "cell_type": "markdown",
   "metadata": {},
   "source": [
    "### Revenue Growth\n",
    "\n",
    "$\n",
    "\\begin{align*}\n",
    "revenueGrowth = \\frac{revenue_(current)}{revenue_(previous) - 1 } \\\\\n",
    "\\end{align*}\n",
    "$"
   ]
  },
  {
   "cell_type": "code",
   "execution_count": 125,
   "metadata": {},
   "outputs": [],
   "source": [
    "#Revenue Growth = Revenue/(Revenue last year -1)\n",
    "df_health_metrics['revenueGrowth'] = df_appl_financial_statement['totalRevenue'].sort_index().pct_change()"
   ]
  },
  {
   "cell_type": "code",
   "execution_count": 126,
   "metadata": {},
   "outputs": [
    {
     "data": {
      "text/html": [
       "<div>\n",
       "<style scoped>\n",
       "    .dataframe tbody tr th:only-of-type {\n",
       "        vertical-align: middle;\n",
       "    }\n",
       "\n",
       "    .dataframe tbody tr th {\n",
       "        vertical-align: top;\n",
       "    }\n",
       "\n",
       "    .dataframe thead th {\n",
       "        text-align: right;\n",
       "    }\n",
       "</style>\n",
       "<table border=\"1\" class=\"dataframe\">\n",
       "  <thead>\n",
       "    <tr style=\"text-align: right;\">\n",
       "      <th></th>\n",
       "      <th>revenueGrowth</th>\n",
       "      <th>totalRevenue</th>\n",
       "    </tr>\n",
       "  </thead>\n",
       "  <tbody>\n",
       "    <tr>\n",
       "      <th>2017-12-31</th>\n",
       "      <td>0.307963</td>\n",
       "      <td>1.778660e+11</td>\n",
       "    </tr>\n",
       "    <tr>\n",
       "      <th>2016-12-31</th>\n",
       "      <td>0.270835</td>\n",
       "      <td>1.359870e+11</td>\n",
       "    </tr>\n",
       "    <tr>\n",
       "      <th>2015-12-31</th>\n",
       "      <td>0.202477</td>\n",
       "      <td>1.070060e+11</td>\n",
       "    </tr>\n",
       "    <tr>\n",
       "      <th>2014-12-31</th>\n",
       "      <td>NaN</td>\n",
       "      <td>8.898800e+10</td>\n",
       "    </tr>\n",
       "  </tbody>\n",
       "</table>\n",
       "</div>"
      ],
      "text/plain": [
       "            revenueGrowth  totalRevenue\n",
       "2017-12-31       0.307963  1.778660e+11\n",
       "2016-12-31       0.270835  1.359870e+11\n",
       "2015-12-31       0.202477  1.070060e+11\n",
       "2014-12-31            NaN  8.898800e+10"
      ]
     },
     "execution_count": 126,
     "metadata": {},
     "output_type": "execute_result"
    }
   ],
   "source": [
    "df_revgrowth = pd.DataFrame({'revenueGrowth' : df_health_metrics['revenueGrowth']})\n",
    "df_revgrowth['totalRevenue'] = df_appl_financial_statement['totalRevenue']\n",
    "df_revgrowth"
   ]
  },
  {
   "cell_type": "code",
   "execution_count": 127,
   "metadata": {},
   "outputs": [
    {
     "data": {
      "image/png": "[encoded data removed]",
      "text/plain": [
       "<Figure size 432x288 with 1 Axes>"
      ]
     },
     "metadata": {
      "needs_background": "light"
     },
     "output_type": "display_data"
    }
   ],
   "source": [
    "plt.ylabel('revenueGrowth')\n",
    "y=df_health_metrics['revenueGrowth'][::-1]\n",
    "x=df_health_metrics.index[::-1]\n",
    "plt.plot(x,y)\n",
    "plt.show()"
   ]
  },
  {
   "cell_type": "markdown",
   "metadata": {},
   "source": [
    "$\n",
    "\\begin{align*}\n",
    "currentRatio = \\frac{currentAsset}{currentLiabilities} \\\\\n",
    "\\\\\n",
    "DSO = \\frac{netReceivables}{revenue} *360\\\\\n",
    "\\\\\n",
    "DIO = \\frac{inventory}{costOfRevenue} *360\\\\\n",
    "\\\\\n",
    "DPO = \\frac{accountPayable}{costOfRevenue} *360\\\\\n",
    "\\\\\n",
    "netTradeCycle = DSO + DIO +DPO \\\\\n",
    "\\\\\n",
    "debtRatio = \\frac{totalLiability}{totalAsset} \\\\\n",
    "\\\\\n",
    "interestCoverage = \\frac{EBIT}{interestExpense} \\\\\n",
    "\\\\\n",
    "ROA = \\frac{EBIT}{totalAsset} \\\\\n",
    "\\\\\n",
    "ROE = \\frac{netIncome}{totalEquity} \\\\\n",
    "\\\\\n",
    "revenueGrowth = \\frac{revenue_(current)}{revenue_(previous) - 1 } \\\\\n",
    "\\end{align*}\n",
    "$\n"
   ]
  },
  {
   "cell_type": "code",
   "execution_count": null,
   "metadata": {},
   "outputs": [],
   "source": []
  },
  {
   "cell_type": "code",
   "execution_count": null,
   "metadata": {},
   "outputs": [],
   "source": []
  },
  {
   "cell_type": "code",
   "execution_count": null,
   "metadata": {},
   "outputs": [],
   "source": []
  }
 ],
 "metadata": {
  "kernelspec": {
   "display_name": "Python 3",
   "language": "python",
   "name": "python3"
  },
  "language_info": {
   "codemirror_mode": {
    "name": "ipython",
    "version": 3
   },
   "file_extension": ".py",
   "mimetype": "text/x-python",
   "name": "python",
   "nbconvert_exporter": "python",
   "pygments_lexer": "ipython3",
   "version": "3.7.0"
  }
 },
 "nbformat": 4,
 "nbformat_minor": 2
}
