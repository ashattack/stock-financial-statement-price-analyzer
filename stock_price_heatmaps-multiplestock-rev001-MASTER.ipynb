{
 "cells": [
  {
   "cell_type": "code",
   "execution_count": 35,
   "metadata": {},
   "outputs": [],
   "source": [
    "import pandas as pd\n",
    "import pandas_datareader.data as web\n",
    "import pickle\n",
    "from tqdm import tqdm_notebook"
   ]
  },
  {
   "cell_type": "code",
   "execution_count": 37,
   "metadata": {},
   "outputs": [
    {
     "data": {
      "application/vnd.jupyter.widget-view+json": {
       "model_id": "79e2c966414342b49bf2297c1399d039",
       "version_major": 2,
       "version_minor": 0
      },
      "text/plain": [
       "HBox(children=(IntProgress(value=0, max=3), HTML(value='')))"
      ]
     },
     "metadata": {},
     "output_type": "display_data"
    },
    {
     "name": "stdout",
     "output_type": "stream",
     "text": [
      "\n"
     ]
    },
    {
     "data": {
      "text/html": [
       "<div>\n",
       "<style scoped>\n",
       "    .dataframe tbody tr th:only-of-type {\n",
       "        vertical-align: middle;\n",
       "    }\n",
       "\n",
       "    .dataframe tbody tr th {\n",
       "        vertical-align: top;\n",
       "    }\n",
       "\n",
       "    .dataframe thead th {\n",
       "        text-align: right;\n",
       "    }\n",
       "</style>\n",
       "<table border=\"1\" class=\"dataframe\">\n",
       "  <thead>\n",
       "    <tr style=\"text-align: right;\">\n",
       "      <th></th>\n",
       "      <th>High</th>\n",
       "      <th>Low</th>\n",
       "      <th>Open</th>\n",
       "      <th>Close</th>\n",
       "      <th>Volume</th>\n",
       "      <th>Adj Close</th>\n",
       "      <th>ticker</th>\n",
       "    </tr>\n",
       "    <tr>\n",
       "      <th>Date</th>\n",
       "      <th></th>\n",
       "      <th></th>\n",
       "      <th></th>\n",
       "      <th></th>\n",
       "      <th></th>\n",
       "      <th></th>\n",
       "      <th></th>\n",
       "    </tr>\n",
       "  </thead>\n",
       "  <tbody>\n",
       "    <tr>\n",
       "      <th>2005-01-03</th>\n",
       "      <td>101.921921</td>\n",
       "      <td>97.827827</td>\n",
       "      <td>98.798798</td>\n",
       "      <td>101.456459</td>\n",
       "      <td>31656700.0</td>\n",
       "      <td>101.456459</td>\n",
       "      <td>GOOGL</td>\n",
       "    </tr>\n",
       "    <tr>\n",
       "      <th>2005-01-04</th>\n",
       "      <td>101.566566</td>\n",
       "      <td>96.836838</td>\n",
       "      <td>100.800804</td>\n",
       "      <td>97.347351</td>\n",
       "      <td>27484200.0</td>\n",
       "      <td>97.347351</td>\n",
       "      <td>GOOGL</td>\n",
       "    </tr>\n",
       "    <tr>\n",
       "      <th>2005-01-05</th>\n",
       "      <td>98.548546</td>\n",
       "      <td>96.211212</td>\n",
       "      <td>96.821823</td>\n",
       "      <td>96.851852</td>\n",
       "      <td>16456700.0</td>\n",
       "      <td>96.851852</td>\n",
       "      <td>GOOGL</td>\n",
       "    </tr>\n",
       "    <tr>\n",
       "      <th>2005-01-06</th>\n",
       "      <td>98.048050</td>\n",
       "      <td>93.953957</td>\n",
       "      <td>97.637634</td>\n",
       "      <td>94.369370</td>\n",
       "      <td>20753400.0</td>\n",
       "      <td>94.369370</td>\n",
       "      <td>GOOGL</td>\n",
       "    </tr>\n",
       "    <tr>\n",
       "      <th>2005-01-07</th>\n",
       "      <td>97.222221</td>\n",
       "      <td>94.484482</td>\n",
       "      <td>95.415413</td>\n",
       "      <td>97.022018</td>\n",
       "      <td>19306400.0</td>\n",
       "      <td>97.022018</td>\n",
       "      <td>GOOGL</td>\n",
       "    </tr>\n",
       "  </tbody>\n",
       "</table>\n",
       "</div>"
      ],
      "text/plain": [
       "                  High        Low        Open       Close      Volume  \\\n",
       "Date                                                                    \n",
       "2005-01-03  101.921921  97.827827   98.798798  101.456459  31656700.0   \n",
       "2005-01-04  101.566566  96.836838  100.800804   97.347351  27484200.0   \n",
       "2005-01-05   98.548546  96.211212   96.821823   96.851852  16456700.0   \n",
       "2005-01-06   98.048050  93.953957   97.637634   94.369370  20753400.0   \n",
       "2005-01-07   97.222221  94.484482   95.415413   97.022018  19306400.0   \n",
       "\n",
       "             Adj Close ticker  \n",
       "Date                           \n",
       "2005-01-03  101.456459  GOOGL  \n",
       "2005-01-04   97.347351  GOOGL  \n",
       "2005-01-05   96.851852  GOOGL  \n",
       "2005-01-06   94.369370  GOOGL  \n",
       "2005-01-07   97.022018  GOOGL  "
      ]
     },
     "execution_count": 37,
     "metadata": {},
     "output_type": "execute_result"
    }
   ],
   "source": [
    "#IMPORT DATA\n",
    "#Create a list of stocks to survey\n",
    "stocks = ['V','AAPL','GOOGL']\n",
    "#Create an emppty dataframe\n",
    "data_append = pd.DataFrame()\n",
    "\n",
    "for stock in tqdm_notebook(stocks):\n",
    "    try:\n",
    "        data = web.get_data_yahoo(stock,'01/01/2005',interval='d')\n",
    "        data['ticker'] = stock\n",
    "        data_append = pd.concat([data,data_append])\n",
    "    except:\n",
    "        pass\n",
    "\n",
    "data_append.head()"
   ]
  },
  {
   "cell_type": "code",
   "execution_count": 38,
   "metadata": {},
   "outputs": [
    {
     "name": "stdout",
     "output_type": "stream",
     "text": [
      "<class 'pandas.core.frame.DataFrame'>\n",
      "DatetimeIndex: 9918 entries, 2005-01-03 to 2019-03-18\n",
      "Data columns (total 7 columns):\n",
      "High         9918 non-null float64\n",
      "Low          9918 non-null float64\n",
      "Open         9918 non-null float64\n",
      "Close        9918 non-null float64\n",
      "Volume       9918 non-null float64\n",
      "Adj Close    9918 non-null float64\n",
      "ticker       9918 non-null object\n",
      "dtypes: float64(6), object(1)\n",
      "memory usage: 619.9+ KB\n"
     ]
    }
   ],
   "source": [
    "data_append.info()"
   ]
  },
  {
   "cell_type": "code",
   "execution_count": 39,
   "metadata": {},
   "outputs": [
    {
     "data": {
      "text/plain": [
       "{'AAPL', 'GOOGL', 'V'}"
      ]
     },
     "execution_count": 39,
     "metadata": {},
     "output_type": "execute_result"
    }
   ],
   "source": [
    "set(data_append['ticker'])"
   ]
  },
  {
   "cell_type": "code",
   "execution_count": 40,
   "metadata": {},
   "outputs": [
    {
     "data": {
      "text/plain": [
       "3"
      ]
     },
     "execution_count": 40,
     "metadata": {},
     "output_type": "execute_result"
    }
   ],
   "source": [
    "len(set(data_append['ticker']))"
   ]
  },
  {
   "cell_type": "code",
   "execution_count": 41,
   "metadata": {},
   "outputs": [],
   "source": [
    "#Pickle file for next time\n",
    "filename = 'stocks_03182019.pickle'\n",
    "outfile = open(filename,'wb') #The second argument is 'wb'. The w means that you'll be writing to the file, and b refers to binary mode.\n",
    "pickle.dump(data_append,outfile)\n",
    "outfile.close()"
   ]
  },
  {
   "cell_type": "code",
   "execution_count": 42,
   "metadata": {},
   "outputs": [
    {
     "data": {
      "text/html": [
       "<div>\n",
       "<style scoped>\n",
       "    .dataframe tbody tr th:only-of-type {\n",
       "        vertical-align: middle;\n",
       "    }\n",
       "\n",
       "    .dataframe tbody tr th {\n",
       "        vertical-align: top;\n",
       "    }\n",
       "\n",
       "    .dataframe thead th {\n",
       "        text-align: right;\n",
       "    }\n",
       "</style>\n",
       "<table border=\"1\" class=\"dataframe\">\n",
       "  <thead>\n",
       "    <tr style=\"text-align: right;\">\n",
       "      <th></th>\n",
       "      <th>High</th>\n",
       "      <th>Low</th>\n",
       "      <th>Open</th>\n",
       "      <th>Close</th>\n",
       "      <th>Volume</th>\n",
       "      <th>Adj Close</th>\n",
       "      <th>ticker</th>\n",
       "    </tr>\n",
       "    <tr>\n",
       "      <th>Date</th>\n",
       "      <th></th>\n",
       "      <th></th>\n",
       "      <th></th>\n",
       "      <th></th>\n",
       "      <th></th>\n",
       "      <th></th>\n",
       "      <th></th>\n",
       "    </tr>\n",
       "  </thead>\n",
       "  <tbody>\n",
       "    <tr>\n",
       "      <th>2005-01-03</th>\n",
       "      <td>101.921921</td>\n",
       "      <td>97.827827</td>\n",
       "      <td>98.798798</td>\n",
       "      <td>101.456459</td>\n",
       "      <td>31656700.0</td>\n",
       "      <td>101.456459</td>\n",
       "      <td>GOOGL</td>\n",
       "    </tr>\n",
       "    <tr>\n",
       "      <th>2005-01-04</th>\n",
       "      <td>101.566566</td>\n",
       "      <td>96.836838</td>\n",
       "      <td>100.800804</td>\n",
       "      <td>97.347351</td>\n",
       "      <td>27484200.0</td>\n",
       "      <td>97.347351</td>\n",
       "      <td>GOOGL</td>\n",
       "    </tr>\n",
       "    <tr>\n",
       "      <th>2005-01-05</th>\n",
       "      <td>98.548546</td>\n",
       "      <td>96.211212</td>\n",
       "      <td>96.821823</td>\n",
       "      <td>96.851852</td>\n",
       "      <td>16456700.0</td>\n",
       "      <td>96.851852</td>\n",
       "      <td>GOOGL</td>\n",
       "    </tr>\n",
       "    <tr>\n",
       "      <th>2005-01-06</th>\n",
       "      <td>98.048050</td>\n",
       "      <td>93.953957</td>\n",
       "      <td>97.637634</td>\n",
       "      <td>94.369370</td>\n",
       "      <td>20753400.0</td>\n",
       "      <td>94.369370</td>\n",
       "      <td>GOOGL</td>\n",
       "    </tr>\n",
       "    <tr>\n",
       "      <th>2005-01-07</th>\n",
       "      <td>97.222221</td>\n",
       "      <td>94.484482</td>\n",
       "      <td>95.415413</td>\n",
       "      <td>97.022018</td>\n",
       "      <td>19306400.0</td>\n",
       "      <td>97.022018</td>\n",
       "      <td>GOOGL</td>\n",
       "    </tr>\n",
       "  </tbody>\n",
       "</table>\n",
       "</div>"
      ],
      "text/plain": [
       "                  High        Low        Open       Close      Volume  \\\n",
       "Date                                                                    \n",
       "2005-01-03  101.921921  97.827827   98.798798  101.456459  31656700.0   \n",
       "2005-01-04  101.566566  96.836838  100.800804   97.347351  27484200.0   \n",
       "2005-01-05   98.548546  96.211212   96.821823   96.851852  16456700.0   \n",
       "2005-01-06   98.048050  93.953957   97.637634   94.369370  20753400.0   \n",
       "2005-01-07   97.222221  94.484482   95.415413   97.022018  19306400.0   \n",
       "\n",
       "             Adj Close ticker  \n",
       "Date                           \n",
       "2005-01-03  101.456459  GOOGL  \n",
       "2005-01-04   97.347351  GOOGL  \n",
       "2005-01-05   96.851852  GOOGL  \n",
       "2005-01-06   94.369370  GOOGL  \n",
       "2005-01-07   97.022018  GOOGL  "
      ]
     },
     "execution_count": 42,
     "metadata": {},
     "output_type": "execute_result"
    }
   ],
   "source": [
    "#Open pickled file\n",
    "infile = open(filename,'rb')\n",
    "new_stocks = pickle.load(infile)\n",
    "infile.close()\n",
    "\n",
    "new_stocks.head()"
   ]
  },
  {
   "cell_type": "code",
   "execution_count": null,
   "metadata": {},
   "outputs": [],
   "source": []
  }
 ],
 "metadata": {
  "kernelspec": {
   "display_name": "Python 3",
   "language": "python",
   "name": "python3"
  },
  "language_info": {
   "codemirror_mode": {
    "name": "ipython",
    "version": 3
   },
   "file_extension": ".py",
   "mimetype": "text/x-python",
   "name": "python",
   "nbconvert_exporter": "python",
   "pygments_lexer": "ipython3",
   "version": "3.6.8"
  }
 },
 "nbformat": 4,
 "nbformat_minor": 2
}
